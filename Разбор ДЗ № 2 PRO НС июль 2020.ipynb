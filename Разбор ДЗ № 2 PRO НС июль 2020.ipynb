{
  "nbformat": 4,
  "nbformat_minor": 0,
  "metadata": {
    "colab": {
      "name": "Разбор_ДЗ_2  \"Июльский_курс_2020_Pro\"",
      "provenance": [],
      "collapsed_sections": [
        "R6iJpPIjHG_a",
        "IFD6EFHRW4EL",
        "hI1kFBS5Xe2b"
      ],
      "toc_visible": true
    },
    "kernelspec": {
      "name": "python3",
      "display_name": "Python 3"
    },
    "accelerator": "GPU"
  },
  "cells": [
    {
      "cell_type": "code",
      "metadata": {
        "id": "9CCqcXtmcifQ",
        "colab_type": "code",
        "colab": {}
      },
      "source": [
        "from tensorflow.keras.datasets import mnist #Библиотека с базой Mnist\n",
        "from tensorflow.keras.models import Sequential # Подлючаем класс создания модели Sequential\n",
        "from tensorflow.keras.layers import Dense, BatchNormalization, Dropout \n",
        "from tensorflow.keras.optimizers import Adam # Подключаем оптимизатор Adam\n",
        "from tensorflow.keras import utils #Утилиты для to_categorical\n",
        "from tensorflow.keras.preprocessing import image #Для отрисовки изображения\n",
        "import numpy as np # Подключаем библиотеку numpy\n",
        "import pandas as pd # Подключаем библиотеку Pandas\n",
        "import pylab # Модуль для построения графиков\n",
        "from mpl_toolkits.mplot3d import Axes3D # Модуль для трехмерной графики\n",
        "from google.colab import files #Для загрузки своей картинки\n",
        "import matplotlib.pyplot as plt #Отрисовка изображений\n",
        "from PIL import Image #Отрисовка изображений\n",
        "#Отрисовывать изображения в ноутбуке, а не в консоль или файл\n",
        "%matplotlib inline "
      ],
      "execution_count": null,
      "outputs": []
    },
    {
      "cell_type": "markdown",
      "metadata": {
        "id": "R6iJpPIjHG_a",
        "colab_type": "text"
      },
      "source": [
        "# Light\n",
        "\n",
        "Создайте модель для распознавания рукописных цифр из набора MNIST (можно воспользоваться ноутбуком 1-го занятия) и проведите ряд тестов: \n",
        "\n",
        "1. Запустите сеть с различными размерами обучающей и проверочной выборок: \n",
        "\n",
        "  a. Обучающая выборка 50.000 примеров \n",
        "\n",
        "  b. Обучающая выборка 10.000 примеров \n",
        "\n",
        "  c. Обучающая выборка 500 примеров \n",
        "\n",
        "2. Создайте еще два варианта сети и сравните значения точности на проверочной выборке (на  последней эпохе) и на тестовой выборке. Сделайте сравнительную таблицу. \n",
        "\n",
        "3. Создайте сеть следующей архитектуры: \n",
        "\n",
        "  a. 4 Dense слоя\n",
        "\n",
        "  b. 3 Dropout слоя \n",
        "\n",
        "  c. 3 BatchNormalization слоя\n",
        "\n",
        "Напишите свои выводы по результатам проведенных тестов. \n",
        "\n"
      ]
    },
    {
      "cell_type": "code",
      "metadata": {
        "id": "asPzZnmLHcDq",
        "colab_type": "code",
        "colab": {
          "base_uri": "https://localhost:8080/",
          "height": 51
        },
        "outputId": "21f6e066-6929-4e31-e27c-dfa8c4c2db16"
      },
      "source": [
        "# Загрузка данных\n",
        "(x_train_org, y_train_org), (x_test_org, y_test_org) = mnist.load_data()\n",
        "\n",
        "# Меняем формат входных картинок с 28х28 на 784х1\n",
        "x_train = x_train_org.reshape(60000, 784)\n",
        "x_test = x_test_org.reshape(10000, 784)\n",
        "\n",
        "# Нормализуем данные\n",
        "x_train = x_train.astype('float32') # преобразовываем x_train в тип float (цифры с плавающей точкой)\n",
        "x_train = x_train / 255 # делим на 255, чтобы диапазон был от 0 до 1\n",
        "x_test = x_test.astype('float32') # преобразовываем x_test в тип float (цифры с плавающей точкой)\n",
        "x_test = x_test / 255 # делим на 255, чтобы диапазон был от 0 до 1\n",
        "\n",
        "# Преобразуем ответы в формат one_hot_encoding\n",
        "y_train = utils.to_categorical(y_train_org, 10)\n",
        "y_test = utils.to_categorical(y_test_org, 10)\n"
      ],
      "execution_count": null,
      "outputs": [
        {
          "output_type": "stream",
          "text": [
            "Downloading data from https://storage.googleapis.com/tensorflow/tf-keras-datasets/mnist.npz\n",
            "11493376/11490434 [==============================] - 0s 0us/step\n"
          ],
          "name": "stdout"
        }
      ]
    },
    {
      "cell_type": "code",
      "metadata": {
        "id": "GihYe4o4eFCu",
        "colab_type": "code",
        "colab": {
          "base_uri": "https://localhost:8080/",
          "height": 85
        },
        "outputId": "0d216b7d-f5b4-4523-d656-06bfb90b05c3"
      },
      "source": [
        "# Проверяем размеры\n",
        "print(x_train.shape)\n",
        "print(y_train.shape)\n",
        "print(x_test.shape)\n",
        "print(y_test.shape)"
      ],
      "execution_count": null,
      "outputs": [
        {
          "output_type": "stream",
          "text": [
            "(60000, 784)\n",
            "(60000, 10)\n",
            "(10000, 784)\n",
            "(10000, 10)\n"
          ],
          "name": "stdout"
        }
      ]
    },
    {
      "cell_type": "code",
      "metadata": {
        "id": "ynpTysg9jR9h",
        "colab_type": "code",
        "colab": {
          "base_uri": "https://localhost:8080/",
          "height": 1000
        },
        "outputId": "a16f1470-7e01-4092-9edb-2e18d045103c"
      },
      "source": [
        "# 1\n",
        "data = []\n",
        "N = [50000, 10000, 500] # Размер обучающей выборки\n",
        "for i in N:\n",
        "\n",
        "    # Задаем размер проверочной выборки\n",
        "    x_val = x_train[i:int(i*1.2)] \n",
        "    y_val = y_train[i:int(i*1.2)]\n",
        "\n",
        "    model = Sequential() \n",
        "    model.add(Dense(800, input_dim=784, activation='relu')) \n",
        "    model.add(Dense(10, activation='softmax')) \n",
        "\n",
        "    # Компилируем модель\n",
        "    model.compile(loss='categorical_crossentropy', optimizer='adam', metrics=['accuracy']) \n",
        "\n",
        "    # Обучение сети\n",
        "    model.fit(x_train[:i], y_train[:i], batch_size=128, epochs=10, verbose=1, validation_data=(x_val, y_val)) # Пееребираем размеры обучающей и проверочной выборки\n",
        "\n",
        "    data = data + [['1-Dense', i, round(model.evaluate(x_test, y_test, verbose = 0)[1], 3)]]\n",
        "\n",
        "\n",
        "# 2\n",
        "model = Sequential() \n",
        "model.add(Dense(800, input_dim=784, activation='relu')) \n",
        "model.add(Dropout(0.2))\n",
        "model.add(Dense(10, activation='softmax')) \n",
        "\n",
        "# Компилируем модель\n",
        "model.compile(loss='categorical_crossentropy', optimizer='adam', metrics=['accuracy']) \n",
        "\n",
        "# Обучение сети\n",
        "model.fit(x_train, y_train, batch_size=128, epochs=10, verbose=1, validation_split=0.2)\n",
        "\n",
        "data = data + [['1-Dense+Drop', 50000, round(model.evaluate(x_test, y_test, verbose = 0)[1], 3)]]\n",
        "\n",
        "\n",
        "# 3\n",
        "model = Sequential() \n",
        "model.add(Dense(800, input_dim=784, activation='relu')) \n",
        "model.add(Dropout(0.2))\n",
        "model.add(Dense(200, activation='relu')) \n",
        "model.add(Dense(10, activation='softmax')) \n",
        "\n",
        "# Компилируем модель\n",
        "model.compile(loss='categorical_crossentropy', optimizer='adam', metrics=['accuracy']) \n",
        "\n",
        "# Обучение сети\n",
        "model.fit(x_train, y_train, batch_size=128, epochs=10, verbose=1, validation_split=0.2)\n",
        "\n",
        "data = data + [['2-Dense+Drop', 50000, round(model.evaluate(x_test, y_test, verbose = 0)[1], 3)]]\n",
        "\n",
        "# 4\n",
        "model = Sequential() \n",
        "model.add(BatchNormalization())\n",
        "model.add(Dense(800, activation='relu')) \n",
        "model.add(Dropout(0.2))\n",
        "\n",
        "model.add(BatchNormalization())\n",
        "model.add(Dense(800, activation='relu')) \n",
        "model.add(Dropout(0.2))\n",
        "\n",
        "model.add(BatchNormalization())\n",
        "model.add(Dense(800, activation='relu')) \n",
        "model.add(Dropout(0.2))\n",
        "\n",
        "model.add(Dense(10, activation='softmax')) \n",
        "\n",
        "# Компилируем модель\n",
        "model.compile(loss='categorical_crossentropy', optimizer='adam', metrics=['accuracy']) \n",
        "\n",
        "# Обучение сети\n",
        "model.fit(x_train, y_train, batch_size=128, epochs=10, verbose=1, validation_split=0.2)\n",
        "\n",
        "data = data + [['(BN+Dense+drop)*3', 50000, round(model.evaluate(x_test, y_test, verbose = 0)[1], 3)]]"
      ],
      "execution_count": null,
      "outputs": [
        {
          "output_type": "stream",
          "text": [
            "Epoch 1/10\n",
            "391/391 [==============================] - 1s 3ms/step - loss: 0.2725 - accuracy: 0.9229 - val_loss: 0.1487 - val_accuracy: 0.9579\n",
            "Epoch 2/10\n",
            "391/391 [==============================] - 1s 3ms/step - loss: 0.1099 - accuracy: 0.9683 - val_loss: 0.0947 - val_accuracy: 0.9719\n",
            "Epoch 3/10\n",
            "391/391 [==============================] - 1s 3ms/step - loss: 0.0695 - accuracy: 0.9800 - val_loss: 0.0785 - val_accuracy: 0.9771\n",
            "Epoch 4/10\n",
            "391/391 [==============================] - 1s 3ms/step - loss: 0.0457 - accuracy: 0.9867 - val_loss: 0.0734 - val_accuracy: 0.9781\n",
            "Epoch 5/10\n",
            "391/391 [==============================] - 1s 3ms/step - loss: 0.0336 - accuracy: 0.9906 - val_loss: 0.0722 - val_accuracy: 0.9781\n",
            "Epoch 6/10\n",
            "391/391 [==============================] - 1s 3ms/step - loss: 0.0244 - accuracy: 0.9933 - val_loss: 0.0703 - val_accuracy: 0.9791\n",
            "Epoch 7/10\n",
            "391/391 [==============================] - 1s 3ms/step - loss: 0.0171 - accuracy: 0.9957 - val_loss: 0.0657 - val_accuracy: 0.9815\n",
            "Epoch 8/10\n",
            "391/391 [==============================] - 1s 3ms/step - loss: 0.0130 - accuracy: 0.9967 - val_loss: 0.0664 - val_accuracy: 0.9806\n",
            "Epoch 9/10\n",
            "391/391 [==============================] - 1s 3ms/step - loss: 0.0092 - accuracy: 0.9979 - val_loss: 0.0709 - val_accuracy: 0.9803\n",
            "Epoch 10/10\n",
            "391/391 [==============================] - 1s 3ms/step - loss: 0.0079 - accuracy: 0.9981 - val_loss: 0.0669 - val_accuracy: 0.9815\n",
            "Epoch 1/10\n",
            "79/79 [==============================] - 0s 4ms/step - loss: 0.5189 - accuracy: 0.8548 - val_loss: 0.2838 - val_accuracy: 0.9180\n",
            "Epoch 2/10\n",
            "79/79 [==============================] - 0s 3ms/step - loss: 0.2334 - accuracy: 0.9358 - val_loss: 0.2206 - val_accuracy: 0.9415\n",
            "Epoch 3/10\n",
            "79/79 [==============================] - 0s 3ms/step - loss: 0.1587 - accuracy: 0.9546 - val_loss: 0.2006 - val_accuracy: 0.9425\n",
            "Epoch 4/10\n",
            "79/79 [==============================] - 0s 3ms/step - loss: 0.1226 - accuracy: 0.9652 - val_loss: 0.1844 - val_accuracy: 0.9455\n",
            "Epoch 5/10\n",
            "79/79 [==============================] - 0s 3ms/step - loss: 0.0906 - accuracy: 0.9750 - val_loss: 0.1651 - val_accuracy: 0.9490\n",
            "Epoch 6/10\n",
            "79/79 [==============================] - 0s 3ms/step - loss: 0.0647 - accuracy: 0.9846 - val_loss: 0.1638 - val_accuracy: 0.9585\n",
            "Epoch 7/10\n",
            "79/79 [==============================] - 0s 3ms/step - loss: 0.0550 - accuracy: 0.9864 - val_loss: 0.1616 - val_accuracy: 0.9545\n",
            "Epoch 8/10\n",
            "79/79 [==============================] - 0s 3ms/step - loss: 0.0392 - accuracy: 0.9923 - val_loss: 0.1768 - val_accuracy: 0.9550\n",
            "Epoch 9/10\n",
            "79/79 [==============================] - 0s 3ms/step - loss: 0.0293 - accuracy: 0.9942 - val_loss: 0.1529 - val_accuracy: 0.9575\n",
            "Epoch 10/10\n",
            "79/79 [==============================] - 0s 3ms/step - loss: 0.0225 - accuracy: 0.9971 - val_loss: 0.1436 - val_accuracy: 0.9620\n",
            "Epoch 1/10\n",
            "4/4 [==============================] - 0s 29ms/step - loss: 1.8890 - accuracy: 0.4720 - val_loss: 1.5017 - val_accuracy: 0.6500\n",
            "Epoch 2/10\n",
            "4/4 [==============================] - 0s 5ms/step - loss: 0.9437 - accuracy: 0.8340 - val_loss: 1.0672 - val_accuracy: 0.7200\n",
            "Epoch 3/10\n",
            "4/4 [==============================] - 0s 5ms/step - loss: 0.5501 - accuracy: 0.8740 - val_loss: 0.8713 - val_accuracy: 0.7200\n",
            "Epoch 4/10\n",
            "4/4 [==============================] - 0s 6ms/step - loss: 0.3751 - accuracy: 0.9120 - val_loss: 0.7615 - val_accuracy: 0.7400\n",
            "Epoch 5/10\n",
            "4/4 [==============================] - 0s 5ms/step - loss: 0.2763 - accuracy: 0.9340 - val_loss: 0.6884 - val_accuracy: 0.7600\n",
            "Epoch 6/10\n",
            "4/4 [==============================] - 0s 5ms/step - loss: 0.2162 - accuracy: 0.9460 - val_loss: 0.6279 - val_accuracy: 0.7900\n",
            "Epoch 7/10\n",
            "4/4 [==============================] - 0s 5ms/step - loss: 0.1685 - accuracy: 0.9640 - val_loss: 0.5945 - val_accuracy: 0.8000\n",
            "Epoch 8/10\n",
            "4/4 [==============================] - 0s 5ms/step - loss: 0.1315 - accuracy: 0.9700 - val_loss: 0.5839 - val_accuracy: 0.8200\n",
            "Epoch 9/10\n",
            "4/4 [==============================] - 0s 8ms/step - loss: 0.1031 - accuracy: 0.9880 - val_loss: 0.5853 - val_accuracy: 0.8200\n",
            "Epoch 10/10\n",
            "4/4 [==============================] - 0s 5ms/step - loss: 0.0810 - accuracy: 0.9940 - val_loss: 0.5697 - val_accuracy: 0.8200\n",
            "Epoch 1/10\n",
            "375/375 [==============================] - 1s 3ms/step - loss: 0.2888 - accuracy: 0.9183 - val_loss: 0.1475 - val_accuracy: 0.9581\n",
            "Epoch 2/10\n",
            "375/375 [==============================] - 1s 3ms/step - loss: 0.1216 - accuracy: 0.9647 - val_loss: 0.1052 - val_accuracy: 0.9682\n",
            "Epoch 3/10\n",
            "375/375 [==============================] - 1s 3ms/step - loss: 0.0809 - accuracy: 0.9769 - val_loss: 0.0862 - val_accuracy: 0.9728\n",
            "Epoch 4/10\n",
            "375/375 [==============================] - 1s 2ms/step - loss: 0.0603 - accuracy: 0.9824 - val_loss: 0.0802 - val_accuracy: 0.9743\n",
            "Epoch 5/10\n",
            "375/375 [==============================] - 1s 2ms/step - loss: 0.0458 - accuracy: 0.9864 - val_loss: 0.0727 - val_accuracy: 0.9775\n",
            "Epoch 6/10\n",
            "375/375 [==============================] - 1s 3ms/step - loss: 0.0354 - accuracy: 0.9897 - val_loss: 0.0726 - val_accuracy: 0.9779\n",
            "Epoch 7/10\n",
            "375/375 [==============================] - 1s 3ms/step - loss: 0.0284 - accuracy: 0.9909 - val_loss: 0.0723 - val_accuracy: 0.9797\n",
            "Epoch 8/10\n",
            "375/375 [==============================] - 1s 2ms/step - loss: 0.0238 - accuracy: 0.9931 - val_loss: 0.0756 - val_accuracy: 0.9795\n",
            "Epoch 9/10\n",
            "375/375 [==============================] - 1s 2ms/step - loss: 0.0195 - accuracy: 0.9945 - val_loss: 0.0743 - val_accuracy: 0.9781\n",
            "Epoch 10/10\n",
            "375/375 [==============================] - 1s 3ms/step - loss: 0.0166 - accuracy: 0.9950 - val_loss: 0.0791 - val_accuracy: 0.9785\n",
            "Epoch 1/10\n",
            "375/375 [==============================] - 1s 3ms/step - loss: 0.2562 - accuracy: 0.9245 - val_loss: 0.1127 - val_accuracy: 0.9654\n",
            "Epoch 2/10\n",
            "375/375 [==============================] - 1s 3ms/step - loss: 0.0996 - accuracy: 0.9693 - val_loss: 0.0932 - val_accuracy: 0.9712\n",
            "Epoch 3/10\n",
            "375/375 [==============================] - 1s 3ms/step - loss: 0.0694 - accuracy: 0.9783 - val_loss: 0.0801 - val_accuracy: 0.9749\n",
            "Epoch 4/10\n",
            "375/375 [==============================] - 1s 3ms/step - loss: 0.0527 - accuracy: 0.9827 - val_loss: 0.0828 - val_accuracy: 0.9762\n",
            "Epoch 5/10\n",
            "375/375 [==============================] - 1s 3ms/step - loss: 0.0417 - accuracy: 0.9866 - val_loss: 0.0784 - val_accuracy: 0.9782\n",
            "Epoch 6/10\n",
            "375/375 [==============================] - 1s 3ms/step - loss: 0.0352 - accuracy: 0.9886 - val_loss: 0.0824 - val_accuracy: 0.9764\n",
            "Epoch 7/10\n",
            "375/375 [==============================] - 1s 3ms/step - loss: 0.0297 - accuracy: 0.9896 - val_loss: 0.0805 - val_accuracy: 0.9780\n",
            "Epoch 8/10\n",
            "375/375 [==============================] - 1s 3ms/step - loss: 0.0264 - accuracy: 0.9907 - val_loss: 0.0777 - val_accuracy: 0.9807\n",
            "Epoch 9/10\n",
            "375/375 [==============================] - 1s 3ms/step - loss: 0.0216 - accuracy: 0.9926 - val_loss: 0.1009 - val_accuracy: 0.9760\n",
            "Epoch 10/10\n",
            "375/375 [==============================] - 1s 3ms/step - loss: 0.0185 - accuracy: 0.9939 - val_loss: 0.0957 - val_accuracy: 0.9772\n",
            "Epoch 1/10\n",
            "375/375 [==============================] - 2s 4ms/step - loss: 0.2776 - accuracy: 0.9185 - val_loss: 0.1422 - val_accuracy: 0.9567\n",
            "Epoch 2/10\n",
            "375/375 [==============================] - 1s 4ms/step - loss: 0.1238 - accuracy: 0.9629 - val_loss: 0.1200 - val_accuracy: 0.9677\n",
            "Epoch 3/10\n",
            "375/375 [==============================] - 1s 4ms/step - loss: 0.0974 - accuracy: 0.9699 - val_loss: 0.0946 - val_accuracy: 0.9731\n",
            "Epoch 4/10\n",
            "375/375 [==============================] - 1s 4ms/step - loss: 0.0705 - accuracy: 0.9780 - val_loss: 0.0962 - val_accuracy: 0.9753\n",
            "Epoch 5/10\n",
            "375/375 [==============================] - 1s 4ms/step - loss: 0.0627 - accuracy: 0.9802 - val_loss: 0.0936 - val_accuracy: 0.9745\n",
            "Epoch 6/10\n",
            "375/375 [==============================] - 1s 4ms/step - loss: 0.0603 - accuracy: 0.9814 - val_loss: 0.1001 - val_accuracy: 0.9758\n",
            "Epoch 7/10\n",
            "375/375 [==============================] - 1s 4ms/step - loss: 0.0495 - accuracy: 0.9846 - val_loss: 0.1143 - val_accuracy: 0.9757\n",
            "Epoch 8/10\n",
            "375/375 [==============================] - 1s 4ms/step - loss: 0.0466 - accuracy: 0.9850 - val_loss: 0.1111 - val_accuracy: 0.9752\n",
            "Epoch 9/10\n",
            "375/375 [==============================] - 1s 4ms/step - loss: 0.0408 - accuracy: 0.9871 - val_loss: 0.0988 - val_accuracy: 0.9772\n",
            "Epoch 10/10\n",
            "375/375 [==============================] - 1s 4ms/step - loss: 0.0406 - accuracy: 0.9878 - val_loss: 0.1073 - val_accuracy: 0.9778\n"
          ],
          "name": "stdout"
        }
      ]
    },
    {
      "cell_type": "code",
      "metadata": {
        "id": "VcpSk20qjv-V",
        "colab_type": "code",
        "colab": {
          "base_uri": "https://localhost:8080/",
          "height": 235
        },
        "outputId": "c07ef641-067e-4ef7-9758-20505c1cf57b"
      },
      "source": [
        "df = pd.DataFrame(data, columns = ['model', 'size_data','val_accuracy'])\n",
        "df"
      ],
      "execution_count": null,
      "outputs": [
        {
          "output_type": "execute_result",
          "data": {
            "text/html": [
              "<div>\n",
              "<style scoped>\n",
              "    .dataframe tbody tr th:only-of-type {\n",
              "        vertical-align: middle;\n",
              "    }\n",
              "\n",
              "    .dataframe tbody tr th {\n",
              "        vertical-align: top;\n",
              "    }\n",
              "\n",
              "    .dataframe thead th {\n",
              "        text-align: right;\n",
              "    }\n",
              "</style>\n",
              "<table border=\"1\" class=\"dataframe\">\n",
              "  <thead>\n",
              "    <tr style=\"text-align: right;\">\n",
              "      <th></th>\n",
              "      <th>model</th>\n",
              "      <th>size_data</th>\n",
              "      <th>val_accuracy</th>\n",
              "    </tr>\n",
              "  </thead>\n",
              "  <tbody>\n",
              "    <tr>\n",
              "      <th>0</th>\n",
              "      <td>1-Dense</td>\n",
              "      <td>50000</td>\n",
              "      <td>0.980</td>\n",
              "    </tr>\n",
              "    <tr>\n",
              "      <th>1</th>\n",
              "      <td>1-Dense</td>\n",
              "      <td>10000</td>\n",
              "      <td>0.956</td>\n",
              "    </tr>\n",
              "    <tr>\n",
              "      <th>2</th>\n",
              "      <td>1-Dense</td>\n",
              "      <td>500</td>\n",
              "      <td>0.846</td>\n",
              "    </tr>\n",
              "    <tr>\n",
              "      <th>3</th>\n",
              "      <td>1-Dense+Drop</td>\n",
              "      <td>50000</td>\n",
              "      <td>0.981</td>\n",
              "    </tr>\n",
              "    <tr>\n",
              "      <th>4</th>\n",
              "      <td>2-Dense+Drop</td>\n",
              "      <td>50000</td>\n",
              "      <td>0.980</td>\n",
              "    </tr>\n",
              "    <tr>\n",
              "      <th>5</th>\n",
              "      <td>(BN+Dense+drop)*3</td>\n",
              "      <td>50000</td>\n",
              "      <td>0.980</td>\n",
              "    </tr>\n",
              "  </tbody>\n",
              "</table>\n",
              "</div>"
            ],
            "text/plain": [
              "               model  size_data  val_accuracy\n",
              "0            1-Dense      50000         0.980\n",
              "1            1-Dense      10000         0.956\n",
              "2            1-Dense        500         0.846\n",
              "3       1-Dense+Drop      50000         0.981\n",
              "4       2-Dense+Drop      50000         0.980\n",
              "5  (BN+Dense+drop)*3      50000         0.980"
            ]
          },
          "metadata": {
            "tags": []
          },
          "execution_count": 6
        }
      ]
    },
    {
      "cell_type": "code",
      "metadata": {
        "id": "8XipGvuLpmnN",
        "colab_type": "code",
        "colab": {}
      },
      "source": [
        "# Выводы: "
      ],
      "execution_count": null,
      "outputs": []
    },
    {
      "cell_type": "markdown",
      "metadata": {
        "id": "wL91lp6u1czi",
        "colab_type": "text"
      },
      "source": [
        "# Pro 2 Вариант\n",
        "\n",
        "По подготовленным на занятии данным создайте обучающую, тестовую и проверочную выборки. По\n",
        "сформированным данным необходимо обучить модель для предсказания цены машины.\n",
        "Оцените качество работы созданной сети, определив средний процент ошибки на проверочной\n",
        "выборке. (Для этого потребуется привести предсказанные моделью значения к первоначальному\n",
        "диапазону цен. Это можно сделать с помощью следующего метода:\n",
        "\n",
        "predict_inverse = y_scaler.inverse_transfrom(predict).flatten()\n",
        "\n",
        "где predict - результат предсказания модели).\n",
        "Затем подсчитайте ошибку на каждом примере тестовой выборки и суммарный процент ошибки.\n",
        "Рекмендации:\n",
        "\n",
        "● В качестве ошибки рекомендуется использовать среднеквадратическую ошибку (mse)\n",
        "\n",
        "● Метрику для данной задачи можно не использовать.\n",
        "\n",
        "● Последний слой модели должен иметь 1 нейрон."
      ]
    },
    {
      "cell_type": "markdown",
      "metadata": {
        "id": "IFD6EFHRW4EL",
        "colab_type": "text"
      },
      "source": [
        "## Шаблон с ноута\n",
        "\n"
      ]
    },
    {
      "cell_type": "code",
      "metadata": {
        "id": "0Qtd-37YcF4O",
        "colab_type": "code",
        "colab": {}
      },
      "source": [
        "!unzip -q '/content/base2 (1).zip'"
      ],
      "execution_count": null,
      "outputs": []
    },
    {
      "cell_type": "code",
      "metadata": {
        "id": "vUxFn8WecMIo",
        "colab_type": "code",
        "colab": {
          "base_uri": "https://localhost:8080/",
          "height": 34
        },
        "outputId": "dd9e4ded-1ef0-49fd-c0b7-cd7ba8f1a37d"
      },
      "source": [
        "!ls"
      ],
      "execution_count": null,
      "outputs": [
        {
          "output_type": "stream",
          "text": [
            " base2\t'base2 (1).zip'   sample_data\n"
          ],
          "name": "stdout"
        }
      ]
    },
    {
      "cell_type": "code",
      "metadata": {
        "id": "rDkBe4MpV7SL",
        "colab_type": "code",
        "colab": {
          "base_uri": "https://localhost:8080/",
          "height": 359
        },
        "outputId": "e624b448-4809-4b47-8522-d12e49efc619"
      },
      "source": [
        "# Считываем csv с помощью pandas\n",
        "cars = pd.read_csv('/content/base2/cars_new.csv', sep=',')\n",
        "cars = cars.dropna() #В таблице есть строки с пустыми значениями, но их не много - всего 7\n",
        "cars[:10] # Выводим первые 10 машин "
      ],
      "execution_count": null,
      "outputs": [
        {
          "output_type": "execute_result",
          "data": {
            "text/html": [
              "<div>\n",
              "<style scoped>\n",
              "    .dataframe tbody tr th:only-of-type {\n",
              "        vertical-align: middle;\n",
              "    }\n",
              "\n",
              "    .dataframe tbody tr th {\n",
              "        vertical-align: top;\n",
              "    }\n",
              "\n",
              "    .dataframe thead th {\n",
              "        text-align: right;\n",
              "    }\n",
              "</style>\n",
              "<table border=\"1\" class=\"dataframe\">\n",
              "  <thead>\n",
              "    <tr style=\"text-align: right;\">\n",
              "      <th></th>\n",
              "      <th>mark</th>\n",
              "      <th>model</th>\n",
              "      <th>price</th>\n",
              "      <th>year</th>\n",
              "      <th>mileage</th>\n",
              "      <th>body</th>\n",
              "      <th>kpp</th>\n",
              "      <th>fuel</th>\n",
              "      <th>volume</th>\n",
              "      <th>power</th>\n",
              "    </tr>\n",
              "  </thead>\n",
              "  <tbody>\n",
              "    <tr>\n",
              "      <th>0</th>\n",
              "      <td>kia</td>\n",
              "      <td>cerato</td>\n",
              "      <td>996000</td>\n",
              "      <td>2018</td>\n",
              "      <td>28000</td>\n",
              "      <td>седан</td>\n",
              "      <td>автомат</td>\n",
              "      <td>бензин</td>\n",
              "      <td>2.0</td>\n",
              "      <td>150.0</td>\n",
              "    </tr>\n",
              "    <tr>\n",
              "      <th>1</th>\n",
              "      <td>daewoo</td>\n",
              "      <td>nexia 1 поколение [2-й рестайлинг]</td>\n",
              "      <td>140200</td>\n",
              "      <td>2012</td>\n",
              "      <td>60500</td>\n",
              "      <td>седан</td>\n",
              "      <td>механика</td>\n",
              "      <td>бензин</td>\n",
              "      <td>1.5</td>\n",
              "      <td>80.0</td>\n",
              "    </tr>\n",
              "    <tr>\n",
              "      <th>2</th>\n",
              "      <td>suzuki</td>\n",
              "      <td>jimny 3 поколение [рестайлинг]</td>\n",
              "      <td>750000</td>\n",
              "      <td>2011</td>\n",
              "      <td>29000</td>\n",
              "      <td>внедорожник</td>\n",
              "      <td>автомат</td>\n",
              "      <td>бензин</td>\n",
              "      <td>1.3</td>\n",
              "      <td>85.0</td>\n",
              "    </tr>\n",
              "    <tr>\n",
              "      <th>3</th>\n",
              "      <td>bmw</td>\n",
              "      <td>x1 18 e84 [рестайлинг]</td>\n",
              "      <td>970000</td>\n",
              "      <td>2014</td>\n",
              "      <td>49500</td>\n",
              "      <td>кроссовер</td>\n",
              "      <td>автомат</td>\n",
              "      <td>бензин</td>\n",
              "      <td>2.0</td>\n",
              "      <td>150.0</td>\n",
              "    </tr>\n",
              "    <tr>\n",
              "      <th>4</th>\n",
              "      <td>chevrolet</td>\n",
              "      <td>lacetti 1 поколение</td>\n",
              "      <td>205000</td>\n",
              "      <td>2007</td>\n",
              "      <td>151445</td>\n",
              "      <td>седан</td>\n",
              "      <td>механика</td>\n",
              "      <td>бензин</td>\n",
              "      <td>1.4</td>\n",
              "      <td>95.0</td>\n",
              "    </tr>\n",
              "    <tr>\n",
              "      <th>5</th>\n",
              "      <td>hyundai</td>\n",
              "      <td>creta 1 поколение</td>\n",
              "      <td>985000</td>\n",
              "      <td>2016</td>\n",
              "      <td>34067</td>\n",
              "      <td>кроссовер</td>\n",
              "      <td>автомат</td>\n",
              "      <td>бензин</td>\n",
              "      <td>2.0</td>\n",
              "      <td>150.0</td>\n",
              "    </tr>\n",
              "    <tr>\n",
              "      <th>6</th>\n",
              "      <td>kia</td>\n",
              "      <td>ceed 2 поколение</td>\n",
              "      <td>589000</td>\n",
              "      <td>2013</td>\n",
              "      <td>98000</td>\n",
              "      <td>хетчбэк</td>\n",
              "      <td>автомат</td>\n",
              "      <td>бензин</td>\n",
              "      <td>1.6</td>\n",
              "      <td>129.0</td>\n",
              "    </tr>\n",
              "    <tr>\n",
              "      <th>7</th>\n",
              "      <td>toyota</td>\n",
              "      <td>corolla e140</td>\n",
              "      <td>500000</td>\n",
              "      <td>2008</td>\n",
              "      <td>141000</td>\n",
              "      <td>седан</td>\n",
              "      <td>автомат</td>\n",
              "      <td>бензин</td>\n",
              "      <td>1.6</td>\n",
              "      <td>124.0</td>\n",
              "    </tr>\n",
              "    <tr>\n",
              "      <th>8</th>\n",
              "      <td>mercedes-benz</td>\n",
              "      <td>c-класс 180 w204/s204/c204 [рестайлинг]</td>\n",
              "      <td>1320000</td>\n",
              "      <td>2015</td>\n",
              "      <td>81112</td>\n",
              "      <td>седан</td>\n",
              "      <td>автомат</td>\n",
              "      <td>бензин</td>\n",
              "      <td>1.6</td>\n",
              "      <td>156.0</td>\n",
              "    </tr>\n",
              "    <tr>\n",
              "      <th>9</th>\n",
              "      <td>bmw</td>\n",
              "      <td>7 серия 735 e65/e66</td>\n",
              "      <td>270000</td>\n",
              "      <td>2001</td>\n",
              "      <td>300000</td>\n",
              "      <td>седан</td>\n",
              "      <td>автомат</td>\n",
              "      <td>бензин</td>\n",
              "      <td>3.6</td>\n",
              "      <td>272.0</td>\n",
              "    </tr>\n",
              "  </tbody>\n",
              "</table>\n",
              "</div>"
            ],
            "text/plain": [
              "            mark                                    model  ...  volume  power\n",
              "0            kia                                   cerato  ...     2.0  150.0\n",
              "1         daewoo       nexia 1 поколение [2-й рестайлинг]  ...     1.5   80.0\n",
              "2         suzuki           jimny 3 поколение [рестайлинг]  ...     1.3   85.0\n",
              "3            bmw                   x1 18 e84 [рестайлинг]  ...     2.0  150.0\n",
              "4      chevrolet                      lacetti 1 поколение  ...     1.4   95.0\n",
              "5        hyundai                        creta 1 поколение  ...     2.0  150.0\n",
              "6            kia                         ceed 2 поколение  ...     1.6  129.0\n",
              "7         toyota                             corolla e140  ...     1.6  124.0\n",
              "8  mercedes-benz  c-класс 180 w204/s204/c204 [рестайлинг]  ...     1.6  156.0\n",
              "9            bmw                      7 серия 735 e65/e66  ...     3.6  272.0\n",
              "\n",
              "[10 rows x 10 columns]"
            ]
          },
          "metadata": {
            "tags": []
          },
          "execution_count": 3
        }
      ]
    },
    {
      "cell_type": "code",
      "metadata": {
        "id": "mTDIflZjXh5Q",
        "colab_type": "code",
        "colab": {
          "base_uri": "https://localhost:8080/",
          "height": 34
        },
        "outputId": "a994c670-4b63-41fb-fd2b-723e0007f943"
      },
      "source": [
        "print(cars.values.shape)"
      ],
      "execution_count": null,
      "outputs": [
        {
          "output_type": "stream",
          "text": [
            "(70112, 10)\n"
          ],
          "name": "stdout"
        }
      ]
    },
    {
      "cell_type": "code",
      "metadata": {
        "id": "6W7p3y6kYBHB",
        "colab_type": "code",
        "colab": {}
      },
      "source": [
        "def labelsToOneHot(column): #Функция для преобразования столбца данных из pandas DataFrame в OneHot\n",
        "  vocab, indexes = np.array(np.unique(cars[column], return_inverse=True)) #Получаем массив уникальных значений для столбца и тот же слобец, но в виде индексов\n",
        "  oneHotData = utils.to_categorical(indexes.reshape(-1, 1), num_classes = len(vocab)) #Преобразуем индексы в one-hot\n",
        "  return oneHotData, vocab.tolist() #Вернем индексы в one-hot и список уникальных значений"
      ],
      "execution_count": null,
      "outputs": []
    },
    {
      "cell_type": "code",
      "metadata": {
        "id": "8oa4uDk6YFRX",
        "colab_type": "code",
        "colab": {}
      },
      "source": [
        "labelData = ['mark', 'model', 'body', 'kpp', 'fuel'] #Указываем столбцы с категориальными данными \n",
        "vocabulary = [] #Список для списков всех уникальных значений. Эти списки Вы сможете использовать для обратного преобразования из OneHot в категориальные данные\n",
        "oneHot = [] #Список для массивов в формате OneHot для всех столбцов\n",
        "for column in labelData: #Проходим по всем столбцам\n",
        "  oneHotData, vocab = labelsToOneHot(column) #Получим индексы в OneHot и список уникальных значений для каждого столбца. \n",
        "  vocabulary.append(vocab) #Добавим список уникальных значений для столбца в vocabulary\n",
        "  oneHot.append(oneHotData) #Добавляем в список данные oneHot\n",
        "  oneHotArray = np.concatenate([i for i in oneHot], axis = 1) #Объединяем все массивы в один. "
      ],
      "execution_count": null,
      "outputs": []
    },
    {
      "cell_type": "code",
      "metadata": {
        "id": "vFWnhGPDYIoY",
        "colab_type": "code",
        "colab": {
          "base_uri": "https://localhost:8080/",
          "height": 136
        },
        "outputId": "b7995399-c686-4b7f-e188-ee9405c97800"
      },
      "source": [
        "oneHotArray"
      ],
      "execution_count": null,
      "outputs": [
        {
          "output_type": "execute_result",
          "data": {
            "text/plain": [
              "array([[0., 0., 0., ..., 0., 0., 0.],\n",
              "       [0., 0., 0., ..., 0., 0., 0.],\n",
              "       [0., 0., 0., ..., 0., 0., 0.],\n",
              "       ...,\n",
              "       [0., 0., 0., ..., 0., 0., 0.],\n",
              "       [0., 0., 0., ..., 0., 0., 0.],\n",
              "       [0., 0., 0., ..., 0., 0., 0.]], dtype=float32)"
            ]
          },
          "metadata": {
            "tags": []
          },
          "execution_count": 7
        }
      ]
    },
    {
      "cell_type": "code",
      "metadata": {
        "id": "7IhwKZZrYLWh",
        "colab_type": "code",
        "colab": {
          "base_uri": "https://localhost:8080/",
          "height": 34
        },
        "outputId": "91a2eec7-d5c2-4cdd-bd56-b2cf458856b4"
      },
      "source": [
        "oneHotArray.shape # Посмотрим на размер получившегося массива"
      ],
      "execution_count": null,
      "outputs": [
        {
          "output_type": "execute_result",
          "data": {
            "text/plain": [
              "(70112, 3202)"
            ]
          },
          "metadata": {
            "tags": []
          },
          "execution_count": 8
        }
      ]
    },
    {
      "cell_type": "code",
      "metadata": {
        "id": "Y33WnQqzYOJv",
        "colab_type": "code",
        "colab": {
          "base_uri": "https://localhost:8080/",
          "height": 102
        },
        "outputId": "a35e0dd7-f6b4-4b49-f62f-468c8c3cf7db"
      },
      "source": [
        "for voc in vocabulary:\n",
        "  print('Число уникальных элементов в', labelData[vocabulary.index(voc)], ':', len(voc))"
      ],
      "execution_count": null,
      "outputs": [
        {
          "output_type": "stream",
          "text": [
            "Число уникальных элементов в mark : 21\n",
            "Число уникальных элементов в model : 3156\n",
            "Число уникальных элементов в body : 16\n",
            "Число уникальных элементов в kpp : 4\n",
            "Число уникальных элементов в fuel : 5\n"
          ],
          "name": "stdout"
        }
      ]
    },
    {
      "cell_type": "code",
      "metadata": {
        "id": "SuppEZZZYVaH",
        "colab_type": "code",
        "colab": {
          "base_uri": "https://localhost:8080/",
          "height": 54
        },
        "outputId": "bfe614d3-8de2-44db-f5b6-31a912c4ed41"
      },
      "source": [
        "print(vocabulary[0]) #Посмотрим на словарь марок автомобилей \n",
        "lenmarks = len(vocabulary[0]) #Подсчитаем количество всех автомобилей"
      ],
      "execution_count": null,
      "outputs": [
        {
          "output_type": "stream",
          "text": [
            "['audi', 'bmw', 'chery', 'chevrolet', 'daewoo', 'ford', 'honda', 'hyundai', 'kia', 'mazda', 'mercedes-benz', 'mitsubishi', 'nissan', 'opel', 'peugeot', 'renault', 'skoda', 'subaru', 'suzuki', 'toyota', 'volkswagen']\n"
          ],
          "name": "stdout"
        }
      ]
    },
    {
      "cell_type": "code",
      "metadata": {
        "id": "ZWGGZOqhYYUY",
        "colab_type": "code",
        "colab": {
          "base_uri": "https://localhost:8080/",
          "height": 35
        },
        "outputId": "28d5e403-7580-4d73-c03c-9b4764571dfc"
      },
      "source": [
        "#Получим из какой-нибудь строчки всего массива подмассив, принадлежащий к марке, \n",
        "#(порядок строчек соответсвует порядку в Pandas DataFrame)\n",
        "#затем переведем его в индекс класса. Можем сверить этот индекс с индексом \n",
        "#в vocabulary и убедиться, что они идентичны\n",
        "np.argmax(oneHotArray[100, :lenmarks]) \n",
        "vocabulary[0][np.argmax(oneHotArray[100, :lenmarks])]"
      ],
      "execution_count": null,
      "outputs": [
        {
          "output_type": "execute_result",
          "data": {
            "application/vnd.google.colaboratory.intrinsic+json": {
              "type": "string"
            },
            "text/plain": [
              "'mercedes-benz'"
            ]
          },
          "metadata": {
            "tags": []
          },
          "execution_count": 11
        }
      ]
    },
    {
      "cell_type": "code",
      "metadata": {
        "id": "MgpMWDqyYlkp",
        "colab_type": "code",
        "colab": {}
      },
      "source": [
        "# Запоминаем цены\n",
        "prices = np.array(cars['price'], dtype=np.float)\n",
        "\n",
        "# Запоминаем числовые параметры и нормируем\n",
        "years = preprocessing.scale(cars['year'])\n",
        "mileages = preprocessing.scale(cars['mileage'])\n",
        "volumes = preprocessing.scale(cars['volume'])\n",
        "powers = preprocessing.scale(cars['power'])"
      ],
      "execution_count": null,
      "outputs": []
    },
    {
      "cell_type": "code",
      "metadata": {
        "id": "KJcbNqQFYonp",
        "colab_type": "code",
        "colab": {
          "base_uri": "https://localhost:8080/",
          "height": 34
        },
        "outputId": "e276a251-b55b-45b7-c42f-85bedb0c88ef"
      },
      "source": [
        "years.mean()"
      ],
      "execution_count": null,
      "outputs": [
        {
          "output_type": "execute_result",
          "data": {
            "text/plain": [
              "1.0392214499056326e-14"
            ]
          },
          "metadata": {
            "tags": []
          },
          "execution_count": 13
        }
      ]
    },
    {
      "cell_type": "code",
      "metadata": {
        "id": "qNTziAsqYr7g",
        "colab_type": "code",
        "colab": {
          "base_uri": "https://localhost:8080/",
          "height": 34
        },
        "outputId": "69ac58b3-2a3a-4546-985f-fafbad928a4b"
      },
      "source": [
        "mileages.std()"
      ],
      "execution_count": null,
      "outputs": [
        {
          "output_type": "execute_result",
          "data": {
            "text/plain": [
              "1.0"
            ]
          },
          "metadata": {
            "tags": []
          },
          "execution_count": 14
        }
      ]
    },
    {
      "cell_type": "code",
      "metadata": {
        "id": "kVwFp2cnYu4I",
        "colab_type": "code",
        "colab": {
          "base_uri": "https://localhost:8080/",
          "height": 51
        },
        "outputId": "97dc9325-ace7-43cd-9094-0fb2e2c91062"
      },
      "source": [
        "print(powers)"
      ],
      "execution_count": null,
      "outputs": [
        {
          "output_type": "stream",
          "text": [
            "[ 0.22902799 -0.95629921 -0.87163298 ...  0.22902799 -0.75310026\n",
            "  2.34568371]\n"
          ],
          "name": "stdout"
        }
      ]
    },
    {
      "cell_type": "code",
      "metadata": {
        "id": "ZJdgzy0zYy_Q",
        "colab_type": "code",
        "colab": {}
      },
      "source": [
        "# Создаём пустую обучающую выборку\n",
        "x_train = []\n",
        "y_train = []\n",
        "\n",
        "# Проходим по всем машинам\n",
        "for _id, car in enumerate(np.array(cars)):\n",
        "  # В y_train добавляем цену\n",
        "  y_train.append(prices[_id])\n",
        "  \n",
        "  # В x_train объединяем все параметры\n",
        "  # Категорийные параметры добавляем в виде ohe\n",
        "  # Числовые параметры добавляем напрямую\n",
        "  x_tr = oneHotArray[_id]\n",
        "  x_tr = np.append(x_tr, years[_id])\n",
        "  x_tr = np.append(x_tr, mileages[_id])\n",
        "  x_tr = np.append(x_tr, volumes[_id])\n",
        "  x_tr = np.append(x_tr, powers[_id])\n",
        "\n",
        "  # Добавляем текущую строку в общий x_train\n",
        "  x_train.append(x_tr)\n",
        "\n",
        "# Превращаем лист в numpy.array\n",
        "x_train = np.array(x_train, dtype=np.float)\n",
        "y_train = np.array(y_train, dtype=np.float)"
      ],
      "execution_count": null,
      "outputs": []
    },
    {
      "cell_type": "code",
      "metadata": {
        "id": "e3Ub3Ow9Y2kh",
        "colab_type": "code",
        "colab": {
          "base_uri": "https://localhost:8080/",
          "height": 51
        },
        "outputId": "07aba5d7-4680-4d5d-803d-cd1f6e6b7420"
      },
      "source": [
        "# Выводим размеры выборок\n",
        "print(x_train.shape)\n",
        "print(y_train.shape)"
      ],
      "execution_count": null,
      "outputs": [
        {
          "output_type": "stream",
          "text": [
            "(70112, 3206)\n",
            "(70112,)\n"
          ],
          "name": "stdout"
        }
      ]
    },
    {
      "cell_type": "code",
      "metadata": {
        "id": "rxEoAGa_Y6LY",
        "colab_type": "code",
        "colab": {
          "base_uri": "https://localhost:8080/",
          "height": 102
        },
        "outputId": "1c491b6c-2327-4dbc-97d2-b21b731114e4"
      },
      "source": [
        "# Выводим один x_train\n",
        "print(x_train[0,:20])\n",
        "print(x_train[0,-20:])"
      ],
      "execution_count": null,
      "outputs": [
        {
          "output_type": "stream",
          "text": [
            "[0. 0. 0. 0. 0. 0. 0. 0. 1. 0. 0. 0. 0. 0. 0. 0. 0. 0. 0. 0.]\n",
            "[ 0.          1.          0.          0.          0.          0.\n",
            "  0.          1.          0.          0.          0.          1.\n",
            "  0.          0.          0.          0.          1.52001176 -1.4002026\n",
            "  0.12284181  0.22902799]\n"
          ],
          "name": "stdout"
        }
      ]
    },
    {
      "cell_type": "code",
      "metadata": {
        "id": "mcihPSUyY9PX",
        "colab_type": "code",
        "colab": {
          "base_uri": "https://localhost:8080/",
          "height": 51
        },
        "outputId": "66ba0327-efd9-4347-ed16-e8be14ca04cc"
      },
      "source": [
        "# Выводим y_train\n",
        "print(y_train[:10])"
      ],
      "execution_count": null,
      "outputs": [
        {
          "output_type": "stream",
          "text": [
            "[ 996000.  140200.  750000.  970000.  205000.  985000.  589000.  500000.\n",
            " 1320000.  270000.]\n"
          ],
          "name": "stdout"
        }
      ]
    },
    {
      "cell_type": "code",
      "metadata": {
        "id": "xyabA29Me8-Q",
        "colab_type": "code",
        "colab": {}
      },
      "source": [
        "x_train, x_test, y_train, y_test = train_test_split(x_train, y_train, test_size=0.1)"
      ],
      "execution_count": null,
      "outputs": []
    },
    {
      "cell_type": "code",
      "metadata": {
        "id": "8VmvOG-eZAx3",
        "colab_type": "code",
        "colab": {}
      },
      "source": [
        "# Нормализуем y_train\n",
        "y_scaler = StandardScaler()\n",
        "y_train_scaled = y_scaler.fit_transform(y_train.reshape(-1,1)).flatten()\n",
        "\n",
        "# y_train.reshape(-1,1) добавляет одну размерность\n",
        "# Это нужно потому, что y_scaler.fit_transform\n",
        "# Требует двумерный вектор, массив примеров, которые надо нормализовать\n",
        "# Он не умеет работать с одним примером\n",
        "# Поэтому мы делаем массив из одного примера\n",
        "# На выходе он так же выдаёт массив примеров\n",
        "# Но нам нужен только первый пример\n",
        "# Поэтому мы делаем flatten() - уменьшение размерности\n",
        "\n",
        "# Для обратного преобразования сигнала используйте y_scaler.inverse_transform(...)"
      ],
      "execution_count": null,
      "outputs": []
    },
    {
      "cell_type": "code",
      "metadata": {
        "id": "lRypLtMkZEYY",
        "colab_type": "code",
        "colab": {
          "base_uri": "https://localhost:8080/",
          "height": 34
        },
        "outputId": "c60e0296-0ce7-4a4b-a108-0accb61cd6e6"
      },
      "source": [
        "y_train_scaled.shape"
      ],
      "execution_count": null,
      "outputs": [
        {
          "output_type": "execute_result",
          "data": {
            "text/plain": [
              "(63100,)"
            ]
          },
          "metadata": {
            "tags": []
          },
          "execution_count": 22
        }
      ]
    },
    {
      "cell_type": "code",
      "metadata": {
        "id": "STHgoGNDZK_h",
        "colab_type": "code",
        "colab": {
          "base_uri": "https://localhost:8080/",
          "height": 85
        },
        "outputId": "52acdbab-718e-485c-be4b-c31f5f34a700"
      },
      "source": [
        "# Выводим базовый и нормированный y_train\n",
        "print(y_train[:10])\n",
        "print(y_train_scaled[:10])"
      ],
      "execution_count": null,
      "outputs": [
        {
          "output_type": "stream",
          "text": [
            "[ 65000. 500000. 500000. 380000. 530000. 695000.  80000. 130000. 480000.\n",
            " 695000.]\n",
            "[-0.75463815 -0.04423547 -0.04423547 -0.24020862  0.00475782  0.27422091\n",
            " -0.7301415  -0.64848602 -0.07689766  0.27422091]\n"
          ],
          "name": "stdout"
        }
      ]
    },
    {
      "cell_type": "code",
      "metadata": {
        "id": "DSfUv06LkXK6",
        "colab_type": "code",
        "colab": {
          "base_uri": "https://localhost:8080/",
          "height": 34
        },
        "outputId": "1f393ed8-b245-4b4f-eb27-e82a75c2fcf4"
      },
      "source": [
        "x_train.shape"
      ],
      "execution_count": null,
      "outputs": [
        {
          "output_type": "execute_result",
          "data": {
            "text/plain": [
              "(63100, 3206)"
            ]
          },
          "metadata": {
            "tags": []
          },
          "execution_count": 24
        }
      ]
    },
    {
      "cell_type": "markdown",
      "metadata": {
        "id": "hI1kFBS5Xe2b",
        "colab_type": "text"
      },
      "source": [
        "## model"
      ]
    },
    {
      "cell_type": "code",
      "metadata": {
        "id": "-YlKO0sZ1dmn",
        "colab_type": "code",
        "colab": {
          "base_uri": "https://localhost:8080/",
          "height": 789
        },
        "outputId": "bc641a22-8e87-4117-fe00-fcfaf2716c70"
      },
      "source": [
        "# Создаём сеть\n",
        "model_ula = Sequential()\n",
        "model_ula.add(Dense(1000, activation='relu', input_shape=(x_train.shape[1],)))\n",
        "model_ula.add(Dropout(0.2))\n",
        "model_ula.add(Dense(100, activation='relu'))\n",
        "model_ula.add(Dense(1, activation='linear'))\n",
        "\n",
        "model_ula.compile(optimizer=Adam(lr=0.0001), loss='mse')\n",
        "\n",
        "# 50000 примеров будет в обучающей выборке\n",
        "n_val = 50000\n",
        "history = model_ula.fit(x_train[:n_val], \n",
        "                    y_train_scaled[:n_val],\n",
        "                    batch_size=32,\n",
        "                    epochs=15, \n",
        "                    validation_data=(x_train[n_val:], y_train_scaled[n_val:]), \n",
        "                    verbose=1)\n",
        "\n",
        "# Отображаем графики ошибки обучения по обучающей выборке и по проверочной выборке на всех эпохах\n",
        "plt.plot(history.history['loss'], label='Ошибка на обучающем наборе')\n",
        "plt.plot(history.history['val_loss'], label='Ошибка на проверочном наборе')\n",
        "plt.xlabel('Эпоха обучения')\n",
        "plt.ylabel('MSE')\n",
        "plt.legend()\n",
        "plt.show()"
      ],
      "execution_count": null,
      "outputs": [
        {
          "output_type": "stream",
          "text": [
            "Epoch 1/15\n",
            "1563/1563 [==============================] - 4s 3ms/step - loss: 0.2107 - val_loss: 0.1966\n",
            "Epoch 2/15\n",
            "1563/1563 [==============================] - 4s 3ms/step - loss: 0.1210 - val_loss: 0.1631\n",
            "Epoch 3/15\n",
            "1563/1563 [==============================] - 4s 3ms/step - loss: 0.1049 - val_loss: 0.1539\n",
            "Epoch 4/15\n",
            "1563/1563 [==============================] - 4s 3ms/step - loss: 0.0912 - val_loss: 0.1306\n",
            "Epoch 5/15\n",
            "1563/1563 [==============================] - 4s 3ms/step - loss: 0.0827 - val_loss: 0.1174\n",
            "Epoch 6/15\n",
            "1563/1563 [==============================] - 4s 3ms/step - loss: 0.0740 - val_loss: 0.1066\n",
            "Epoch 7/15\n",
            "1563/1563 [==============================] - 4s 3ms/step - loss: 0.0734 - val_loss: 0.0974\n",
            "Epoch 8/15\n",
            "1563/1563 [==============================] - 4s 3ms/step - loss: 0.0660 - val_loss: 0.0996\n",
            "Epoch 9/15\n",
            "1563/1563 [==============================] - 4s 3ms/step - loss: 0.0620 - val_loss: 0.0855\n",
            "Epoch 10/15\n",
            "1563/1563 [==============================] - 4s 3ms/step - loss: 0.0617 - val_loss: 0.0829\n",
            "Epoch 11/15\n",
            "1563/1563 [==============================] - 4s 3ms/step - loss: 0.0562 - val_loss: 0.0782\n",
            "Epoch 12/15\n",
            "1563/1563 [==============================] - 4s 3ms/step - loss: 0.0561 - val_loss: 0.0808\n",
            "Epoch 13/15\n",
            "1563/1563 [==============================] - 4s 3ms/step - loss: 0.0516 - val_loss: 0.0742\n",
            "Epoch 14/15\n",
            "1563/1563 [==============================] - 4s 3ms/step - loss: 0.0500 - val_loss: 0.0731\n",
            "Epoch 15/15\n",
            "1563/1563 [==============================] - 4s 3ms/step - loss: 0.0507 - val_loss: 0.0758\n"
          ],
          "name": "stdout"
        },
        {
          "output_type": "display_data",
          "data": {
            "image/png": "[encoded data removed]",
            "text/plain": [
              "<Figure size 432x288 with 1 Axes>"
            ]
          },
          "metadata": {
            "tags": [],
            "needs_background": "light"
          }
        }
      ]
    },
    {
      "cell_type": "code",
      "metadata": {
        "id": "oSDw4t5Vdh0q",
        "colab_type": "code",
        "colab": {
          "base_uri": "https://localhost:8080/",
          "height": 68
        },
        "outputId": "63701a89-44c3-414a-bfa1-23d6ed51b744"
      },
      "source": [
        "# Предсказываем проверочную выборку\n",
        "predict = model_ula.predict(x_test)\n",
        "# Меняем масштаб обратно от нормированного к оригинальному\n",
        "predict = y_scaler.inverse_transform(predict).flatten()\n",
        "\n",
        "# Считаем среднюю цену, среднюю ошибку и средний процент ошибки\n",
        "mean_delta = np.mean(abs(predict - y_test))\n",
        "mean_price = np.mean(y_test)\n",
        "print('Средняя ошибка: ', round(mean_delta))\n",
        "print('Средняя цена: ', round(mean_price))\n",
        "print('Суммарный процент ошибки: ', round(100*mean_delta/mean_price), '%', sep='')"
      ],
      "execution_count": null,
      "outputs": [
        {
          "output_type": "stream",
          "text": [
            "Средняя ошибка:  68515.0\n",
            "Средняя цена:  533460.0\n",
            "Суммарный процент ошибки: 13.0%\n"
          ],
          "name": "stdout"
        }
      ]
    },
    {
      "cell_type": "code",
      "metadata": {
        "id": "qO0yW_sclRXB",
        "colab_type": "code",
        "colab": {}
      },
      "source": [
        ""
      ],
      "execution_count": null,
      "outputs": []
    }
  ]
}